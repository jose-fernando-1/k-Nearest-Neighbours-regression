{
  "nbformat": 4,
  "nbformat_minor": 0,
  "metadata": {
    "colab": {
      "provenance": [],
      "authorship_tag": "ABX9TyPTgjXDAf6PLwWUsbTzwH65",
      "include_colab_link": true
    },
    "kernelspec": {
      "name": "python3",
      "display_name": "Python 3"
    },
    "language_info": {
      "name": "python"
    }
  },
  "cells": [
    {
      "cell_type": "markdown",
      "metadata": {
        "id": "view-in-github",
        "colab_type": "text"
      },
      "source": [
        "<a href=\"https://colab.research.google.com/github/jose-fernando-1/k-Nearest-Neighbours-regression/blob/main/TesteML.ipynb\" target=\"_parent\"><img src=\"https://colab.research.google.com/assets/colab-badge.svg\" alt=\"Open In Colab\"/></a>"
      ]
    },
    {
      "cell_type": "code",
      "source": [
        "!pip install ucimlrepo"
      ],
      "metadata": {
        "colab": {
          "base_uri": "https://localhost:8080/"
        },
        "id": "WxGDyKFP3dvs",
        "outputId": "1c221fd9-8687-4c61-ff00-3faa5087482b"
      },
      "execution_count": 25,
      "outputs": [
        {
          "output_type": "stream",
          "name": "stdout",
          "text": [
            "Requirement already satisfied: ucimlrepo in /usr/local/lib/python3.11/dist-packages (0.0.7)\n",
            "Requirement already satisfied: pandas>=1.0.0 in /usr/local/lib/python3.11/dist-packages (from ucimlrepo) (2.2.2)\n",
            "Requirement already satisfied: certifi>=2020.12.5 in /usr/local/lib/python3.11/dist-packages (from ucimlrepo) (2025.1.31)\n",
            "Requirement already satisfied: numpy>=1.23.2 in /usr/local/lib/python3.11/dist-packages (from pandas>=1.0.0->ucimlrepo) (1.26.4)\n",
            "Requirement already satisfied: python-dateutil>=2.8.2 in /usr/local/lib/python3.11/dist-packages (from pandas>=1.0.0->ucimlrepo) (2.8.2)\n",
            "Requirement already satisfied: pytz>=2020.1 in /usr/local/lib/python3.11/dist-packages (from pandas>=1.0.0->ucimlrepo) (2025.1)\n",
            "Requirement already satisfied: tzdata>=2022.7 in /usr/local/lib/python3.11/dist-packages (from pandas>=1.0.0->ucimlrepo) (2025.1)\n",
            "Requirement already satisfied: six>=1.5 in /usr/local/lib/python3.11/dist-packages (from python-dateutil>=2.8.2->pandas>=1.0.0->ucimlrepo) (1.17.0)\n"
          ]
        }
      ]
    },
    {
      "cell_type": "code",
      "source": [
        "from ucimlrepo import fetch_ucirepo, list_available_datasets"
      ],
      "metadata": {
        "id": "VpbfQKn63fLq"
      },
      "execution_count": 26,
      "outputs": []
    },
    {
      "cell_type": "code",
      "source": [
        "#fetching dataset\n",
        "concrete_compressive_strength = fetch_ucirepo(id=165)"
      ],
      "metadata": {
        "id": "B9UuvS1h3lEQ"
      },
      "execution_count": 27,
      "outputs": []
    },
    {
      "cell_type": "code",
      "source": [
        "# data (as pandas dataframes)\n",
        "X = concrete_compressive_strength.data.features\n",
        "y = concrete_compressive_strength.data.targets"
      ],
      "metadata": {
        "id": "t5UUeg273qPF"
      },
      "execution_count": 28,
      "outputs": []
    },
    {
      "cell_type": "code",
      "source": [
        "print(concrete_compressive_strength.variables)"
      ],
      "metadata": {
        "colab": {
          "base_uri": "https://localhost:8080/"
        },
        "id": "YJijM4LC4e9x",
        "outputId": "5476c5db-3a6f-47eb-d4ba-baa406abde78"
      },
      "execution_count": 29,
      "outputs": [
        {
          "output_type": "stream",
          "name": "stdout",
          "text": [
            "                            name     role        type  ... description   units missing_values\n",
            "0                         Cement  Feature  Continuous  ...        None  kg/m^3             no\n",
            "1             Blast Furnace Slag  Feature     Integer  ...        None  kg/m^3             no\n",
            "2                        Fly Ash  Feature  Continuous  ...        None  kg/m^3             no\n",
            "3                          Water  Feature  Continuous  ...        None  kg/m^3             no\n",
            "4               Superplasticizer  Feature  Continuous  ...        None  kg/m^3             no\n",
            "5               Coarse Aggregate  Feature  Continuous  ...        None  kg/m^3             no\n",
            "6                 Fine Aggregate  Feature  Continuous  ...        None  kg/m^3             no\n",
            "7                            Age  Feature     Integer  ...        None     day             no\n",
            "8  Concrete compressive strength   Target  Continuous  ...        None     MPa             no\n",
            "\n",
            "[9 rows x 7 columns]\n"
          ]
        }
      ]
    },
    {
      "cell_type": "code",
      "source": [
        "\n",
        "print(concrete_compressive_strength.metadata.additional_info.summary)"
      ],
      "metadata": {
        "colab": {
          "base_uri": "https://localhost:8080/"
        },
        "id": "ytztFyi545TM",
        "outputId": "723460d8-65ba-4c76-dadc-d7325dba249b"
      },
      "execution_count": 30,
      "outputs": [
        {
          "output_type": "stream",
          "name": "stdout",
          "text": [
            "Number of instances \t1030\r\n",
            "Number of Attributes\t9\r\n",
            "Attribute breakdown\t8 quantitative input variables, and 1 quantitative output variable\r\n",
            "Missing Attribute Values\tNone \r\n",
            "\n"
          ]
        }
      ]
    }
  ]
}